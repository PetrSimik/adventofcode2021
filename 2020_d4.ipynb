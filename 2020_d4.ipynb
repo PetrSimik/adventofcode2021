{
 "cells": [
  {
   "cell_type": "code",
   "execution_count": null,
   "metadata": {},
   "outputs": [],
   "source": [
    "\n",
    "lines=[]\n",
    "# lines.append([])\n",
    "index = 0\n",
    "with open(\"2020_d4.txt\") as f:\n",
    "    line =f.readline()\n",
    "    while line:\n",
    "        line=line.strip('\\n')\n",
    "        if line == \"\":\n",
    "            index += 1\n",
    "            # lines.append([])\n",
    "            # print(\"---------\")            \n",
    "        else:            \n",
    "            mydict={}\n",
    "            for pair in line.split(' '):                \n",
    "                # print(item)\n",
    "                key=pair.split(\":\")[0]\n",
    "                value=pair.split(\":\")[1]\n",
    "                mydict[key] = value                \n",
    "            df print(len(mydict))\n",
    "            lines.append(mydict)\n",
    "            \n",
    "        line = f.readline()\n",
    "lines"
   ]
  },
  {
   "cell_type": "code",
   "execution_count": 101,
   "metadata": {},
   "outputs": [
    {
     "name": "stdout",
     "output_type": "stream",
     "text": [
      "Part 1: 239\n"
     ]
    }
   ],
   "source": [
    "keys = [\n",
    "    \"byr\",  # (Birth Year)\n",
    "    \"iyr\",  # (Issue Year)\n",
    "    \"eyr\",  # (Expiration Year)\n",
    "    \"hgt\",  # (Height)\n",
    "    \"hcl\",  # (Hair Color)\n",
    "    \"ecl\",  # (Eye Color)\n",
    "    \"pid\",  # (Passport ID)\n",
    "    # \"cid\", # (Country ID)\n",
    "]\n",
    "\n",
    "with open(\"2020_d4.txt\", \"r\") as f:\n",
    "    passports = f.read().split(\"\\n\\n\")\n",
    "\n",
    "# print(passports)\n",
    "\n",
    "num_keys_valid = sum([all([k in p for k in keys]) for p in passports])\n",
    "print(f\"Part 1: {num_keys_valid}\")\n"
   ]
  }
 ],
 "metadata": {
  "interpreter": {
   "hash": "40c390196b2ca76ebc34d2f43d58a57abf699157b04f9ae951ea92ea7a4c8274"
  },
  "kernelspec": {
   "display_name": "Python 3.9.6 64-bit",
   "language": "python",
   "name": "python3"
  },
  "language_info": {
   "codemirror_mode": {
    "name": "ipython",
    "version": 3
   },
   "file_extension": ".py",
   "mimetype": "text/x-python",
   "name": "python",
   "nbconvert_exporter": "python",
   "pygments_lexer": "ipython3",
   "version": "3.9.6"
  },
  "orig_nbformat": 4
 },
 "nbformat": 4,
 "nbformat_minor": 2
}
