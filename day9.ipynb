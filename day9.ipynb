{
 "cells": [
  {
   "cell_type": "code",
   "execution_count": 31,
   "metadata": {},
   "outputs": [],
   "source": [
    "matrix = []\n",
    "\n",
    "with open(\"day9_short.txt\", \"r\") as f:\n",
    "    lines = f.readline()\n",
    "    while lines:\n",
    "        line=(lines.strip(\"\\n\"))\n",
    "        matrixline=[int(x) for x in line]\n",
    "        matrix.append(matrixline)\n",
    "        lines = f.readline()\n",
    "\n",
    "def GetValue(matrix,x,y):\n",
    "    if x < 0 or x >= len(matrix):\n",
    "        return(10)\n",
    "    if y < 0 or y>=len(matrix[0]):\n",
    "        return(10)\n",
    "    return matrix[x][y]\n",
    "\n",
    "total=0\n",
    "for x in range(len(matrix)):\n",
    "    for y in range(len(matrix)):\n",
    "        count=0\n",
    "        offsets = [[x+1,y],[x-1,y],[x,y+1],[x+1,y-1]]\n",
    "        for offset in offsets:\n",
    "            if matrix[x][y] < GetValue(matrix, offset[0], offset[1]):\n",
    "                count+=1\n",
    "            if count == 4:\n",
    "                total += (1+ matrix[x][y])\n",
    "\n",
    "\n",
    "# for y,line in enumerate(matrix):\n",
    "#     for x,value in enumerate(line):\n",
    "#         if value < matrix[x+1][y]: \n",
    "#             print(value)\n",
    "#         if value < matrix[x][y+1]:\n",
    "#             print(value)\n",
    "#         if value < matrix[x-1][y]: \n",
    "#             print(value)\n",
    "#         if value < matrix[x][y-1]:\n",
    "#             print(value)\n",
    "        \n",
    "\n",
    "\n"
   ]
  },
  {
   "cell_type": "code",
   "execution_count": 7,
   "metadata": {},
   "outputs": [
    {
     "name": "stdout",
     "output_type": "stream",
     "text": [
      "Total: 1075536\n"
     ]
    }
   ],
   "source": [
    "matrix = []\n",
    "\n",
    "with open(\"day9.txt\", \"r\") as f:\n",
    "    lines = f.readline()\n",
    "    while lines:        \n",
    "        matrix.append(lines)\n",
    "        lines = f.readline()\n",
    "heightmap = matrix\n",
    "\n",
    "# print(heightmap)\n",
    "\n",
    "# heightmap = read_file(\"09.txt\")\n",
    "\n",
    "heightmap = [[0 if num !=\"9\" else 9 for num in line.strip() ] for line in heightmap ]\n",
    "width = len(heightmap[0])\n",
    "height = len(heightmap)\n",
    "\n",
    "def floodfill(matrix, x, y):\n",
    "    score = 0\n",
    "    if matrix[y][x] == 0:  \n",
    "        matrix[y][x] = 1 \n",
    "        score = 1\n",
    "        if x > 0:\n",
    "            score += floodfill(matrix,x-1,y)\n",
    "        if x < len(matrix[0]) - 1:\n",
    "            score += floodfill(matrix,x+1,y)\n",
    "        if y > 0:\n",
    "            score += floodfill(matrix,x,y-1)\n",
    "        if y < len(matrix) - 1:\n",
    "            score += floodfill(matrix,x,y+1)\n",
    "    return score\n",
    "\n",
    "scores = []\n",
    "for idx in range(width):\n",
    "    for jdx in range(height):\n",
    "        scores.append(floodfill(heightmap, idx, jdx))\n",
    "\n",
    "scores = sorted(scores, reverse=True)[:3]\n",
    "\n",
    "print(f\"Total: {scores[0] * scores[1] * scores[2]}\")"
   ]
  },
  {
   "cell_type": "code",
   "execution_count": null,
   "metadata": {},
   "outputs": [],
   "source": [
    "matrix = [1,2,3,4,5,6,7,8]\n",
    "# [[row[i] for row in matrix] for i in range(2)]\n",
    "\n",
    "[[9 if x==9 else 0 for x in matrix] for i in matrix]\n",
    "\n",
    "# print (transpose_matrix)"
   ]
  },
  {
   "cell_type": "code",
   "execution_count": 40,
   "metadata": {},
   "outputs": [
    {
     "name": "stdout",
     "output_type": "stream",
     "text": [
      "11 5\n"
     ]
    }
   ],
   "source": [
    "matrix = []\n",
    "\n",
    "with open(\"day9_short.txt\", \"r\") as f:\n",
    "    lines = f.readline()\n",
    "    while lines:        \n",
    "        matrix.append(lines)\n",
    "        lines = f.readline()\n",
    "\n",
    "mapa = [[0 if num !=\"9\" else 9 for num in line.strip() ] for line in matrix ]\n",
    "\n",
    "vertical = len(matrix[0])\n",
    "horizontal = len(matrix)\n",
    "\n",
    "print(vertical, horizontal)\n",
    "\n",
    "\n"
   ]
  },
  {
   "cell_type": "code",
   "execution_count": 41,
   "metadata": {},
   "outputs": [
    {
     "name": "stdout",
     "output_type": "stream",
     "text": [
      "491\n",
      "1075536\n"
     ]
    }
   ],
   "source": [
    "from functools import reduce\n",
    "\n",
    "FILENAME = \"day9.txt\"\n",
    "\n",
    "\n",
    "def nn(x, y):\n",
    "    return [(x - 1, y), (x + 1, y), (x, y - 1), (x, y + 1)]\n",
    "\n",
    "\n",
    "with open(FILENAME, \"r\") as f:\n",
    "    H = dict()\n",
    "    for y, line in enumerate(f):\n",
    "        for x, val in enumerate(line.strip(\"\\n\")):\n",
    "            H[(x, y)] = int(val)\n",
    "\n",
    "# PART 1\n",
    "minima = [p for p, val in H.items() if all([H.get(q, 9) > val for q in nn(*p)])]\n",
    "print(sum(H[p] + 1 for p in minima))\n",
    "\n",
    "# PART 2\n",
    "basins = [[p] for p in minima]\n",
    "for basin in basins:\n",
    "    for p in basin:\n",
    "        for q in nn(*p):\n",
    "            if H[p] < H.get(q, 0) < 9 and q not in basin:\n",
    "                basin.append(q)\n",
    "print(reduce(lambda x, y: x * y, sorted([len(b) for b in basins])[-3:]))"
   ]
  },
  {
   "cell_type": "code",
   "execution_count": 49,
   "metadata": {},
   "outputs": [
    {
     "data": {
      "text/plain": [
       "[(1, 0), (9, 0), (2, 2), (6, 4)]"
      ]
     },
     "execution_count": 49,
     "metadata": {},
     "output_type": "execute_result"
    }
   ],
   "source": [
    "from functools import reduce\n",
    "\n",
    "FILENAME = \"day9_short.txt\"\n",
    "\n",
    "\n",
    "def nn(x, y):\n",
    "    return [(x - 1, y), (x + 1, y), (x, y - 1), (x, y + 1)]\n",
    "\n",
    "\n",
    "with open(FILENAME, \"r\") as f:\n",
    "    H = dict()\n",
    "    for y, line in enumerate(f):\n",
    "        for x, val in enumerate(line.strip(\"\\n\")):\n",
    "            H[(x, y)] = int(val)\n",
    "\n",
    "# print(H)\n",
    "# # PART 1\n",
    "# minima = [p for p, val in H.items() if all([H.get(q, 9) > val for q in nn(*p)])]\n",
    "[p for p, val in H.items() if all([H.get(q, 9) > val for q in nn(*p)])]\n",
    "# print(sum(H[p] + 1 for p in minima))\n",
    "\n",
    "# # PART 2\n",
    "# basins = [[p] for p in minima]\n",
    "# for basin in basins:\n",
    "#     for p in basin:\n",
    "#         for q in nn(*p):\n",
    "#             if H[p] < H.get(q, 0) < 9 and q not in basin:\n",
    "#                 basin.append(q)\n",
    "# print(reduce(lambda x, y: x * y, sorted([len(b) for b in basins])[-3:]))"
   ]
  }
 ],
 "metadata": {
  "interpreter": {
   "hash": "40c390196b2ca76ebc34d2f43d58a57abf699157b04f9ae951ea92ea7a4c8274"
  },
  "kernelspec": {
   "display_name": "Python 3.9.6 64-bit",
   "language": "python",
   "name": "python3"
  },
  "language_info": {
   "codemirror_mode": {
    "name": "ipython",
    "version": 3
   },
   "file_extension": ".py",
   "mimetype": "text/x-python",
   "name": "python",
   "nbconvert_exporter": "python",
   "pygments_lexer": "ipython3",
   "version": "3.9.6"
  },
  "orig_nbformat": 4
 },
 "nbformat": 4,
 "nbformat_minor": 2
}
