{
 "cells": [
  {
   "cell_type": "code",
   "execution_count": 20,
   "metadata": {},
   "outputs": [
    {
     "name": "stdout",
     "output_type": "stream",
     "text": [
      "[[0, 9], [5, 9]]\n"
     ]
    }
   ],
   "source": [
    "import numpy as np \n",
    "lines=[]\n",
    "with open(\"input5_demo.txt\") as f:        \n",
    "    line=f.readline()\n",
    "    while f.readline():        \n",
    "        line=line.strip('\\n').split(' -> ')\n",
    "        first = [int(x) for x in line[0].split(',')]\n",
    "        second = [int(x) for x in line[1].split(',')]\n",
    "        lines.append([first,second])\n",
    "        line = f.readline()\n",
    "print(lines[0])"
   ]
  },
  {
   "cell_type": "code",
   "execution_count": 29,
   "metadata": {},
   "outputs": [
    {
     "name": "stdout",
     "output_type": "stream",
     "text": [
      "[[0, 9], [5, 9]]\n",
      "0 5\n",
      "[[9, 4], [3, 4]]\n",
      "3 9\n",
      "[[7, 0], [7, 4]]\n",
      "[[0, 9], [2, 9]]\n",
      "0 2\n"
     ]
    },
    {
     "data": {
      "text/plain": [
       "[[0, 0, 0, 0, 0, 0, 0, 0, 0, 2],\n",
       " [0, 0, 0, 0, 0, 0, 0, 0, 0, 2],\n",
       " [0, 0, 0, 0, 0, 0, 0, 0, 0, 2],\n",
       " [0, 0, 0, 0, 1, 0, 0, 0, 0, 1],\n",
       " [0, 0, 0, 0, 1, 0, 0, 0, 0, 1],\n",
       " [0, 0, 0, 0, 1, 0, 0, 0, 0, 1],\n",
       " [0, 0, 0, 0, 1, 0, 0, 0, 0, 0],\n",
       " [1, 1, 1, 1, 2, 0, 0, 0, 0, 0],\n",
       " [0, 0, 0, 0, 1, 0, 0, 0, 0, 0],\n",
       " [0, 0, 0, 0, 1, 0, 0, 0, 0, 0]]"
      ]
     },
     "execution_count": 29,
     "metadata": {},
     "output_type": "execute_result"
    }
   ],
   "source": [
    "grid = [[0]* 10 for i in range(10)]\n",
    "for line in lines:\n",
    "    if line[0][0]==line[1][0]:\n",
    "        print(line)\n",
    "        a=min(line[0][1], line[1][1])\n",
    "        b=max(line[0][1], line[1][1])   \n",
    "        for index in range(a,b+1):\n",
    "            grid[line[0][0]][index] += 1\n",
    "    elif line[0][1]==line[1][1]:\n",
    "        print(line)\n",
    "        a=min(line[0][0], line[1][0])\n",
    "        b=max(line[0][0], line[1][0])\n",
    "        print(a,b)\n",
    "        for index in range(a,b+1):\n",
    "            grid[index][line[0][1]] += 1\n",
    "\n",
    "grid"
   ]
  },
  {
   "cell_type": "code",
   "execution_count": null,
   "metadata": {},
   "outputs": [],
   "source": []
  }
 ],
 "metadata": {
  "interpreter": {
   "hash": "40c390196b2ca76ebc34d2f43d58a57abf699157b04f9ae951ea92ea7a4c8274"
  },
  "kernelspec": {
   "display_name": "Python 3.9.6 64-bit",
   "language": "python",
   "name": "python3"
  },
  "language_info": {
   "codemirror_mode": {
    "name": "ipython",
    "version": 3
   },
   "file_extension": ".py",
   "mimetype": "text/x-python",
   "name": "python",
   "nbconvert_exporter": "python",
   "pygments_lexer": "ipython3",
   "version": "3.9.6"
  },
  "orig_nbformat": 4
 },
 "nbformat": 4,
 "nbformat_minor": 2
}
