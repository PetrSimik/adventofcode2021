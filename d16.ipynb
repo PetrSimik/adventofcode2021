{
 "cells": [
  {
   "cell_type": "code",
   "execution_count": 16,
   "metadata": {},
   "outputs": [
    {
     "data": {
      "text/plain": [
       "'100010100000000001001010100000000001101010000000000000101111010001111000'"
      ]
     },
     "execution_count": 16,
     "metadata": {},
     "output_type": "execute_result"
    }
   ],
   "source": [
    "hex_input=\"8A004A801A8002F478\"\n",
    "int_value = int(hex_input, base=16)\n",
    "binary_value = str(bin(int_value))[2:]\n",
    "\n",
    "# 110100101111111000101000\n",
    "# VVVTTTAAAAABBBBBCCCCC\n",
    "#V (110) are the packet version, 6.\n",
    "#T (100) are the packet type ID, 4, =  literal value.\n",
    "\n",
    "\n",
    "# 00111000000000000110111101000101001010010001001000000000\n",
    "# VVVTTTILLLLLLLLLLLLLLLAAAAAAAAAAABBBBBBBBBBBBBBBB\n",
    "#V (001) are the packet version, 1.\n",
    "#T (110) are the packet type ID, 6, =  operator.\n",
    "#I (0) is the length type ID -> then the next 15 bits are a number that represents the total length in bits of the sub-packets contained by this packet.\n",
    "#L length of the sub-packets in bits\n",
    "\n",
    "# 11101110000000001101010000001100100000100011000001100000\n",
    "# VVVTTTILLLLLLLLLLLAAAAAAAAAAABBBBBBBBBBBCCCCCCCCCCC\n",
    "# V (111) are the packet version, 7.\n",
    "# T (011) are the packet type ID, 3,= operator.\n",
    "# I (1) is the length type ID -> then the next 11 bits are a number that represents the number of sub-packets immediately contained by this packet.\n",
    "# L  number of sub-packets, 3.\n",
    "\n",
    "\n",
    "binary_value\n",
    "'100 010 1 00000000001 00101010000 00000011010 10000000000000101111010001111000'\n",
    "'100 010 1 00000000001 00101010000 00000011010 10000000000000101111010001111000'\n",
    "'VVV TTT I LLLLLLLLLLL AAAAAAAAAAA BBBBBBBBBBB CCCCCCCCCCC'\n"
   ]
  },
  {
   "cell_type": "code",
   "execution_count": 2,
   "metadata": {},
   "outputs": [],
   "source": [
    "hexstream =\"8A004A801A8002F478\"\n",
    "bitstream=[]\n",
    "for c in hexstream:\n",
    "    bitstream.extend(bin(int(c, 16))[2:].zfill(4))"
   ]
  },
  {
   "cell_type": "code",
   "execution_count": 4,
   "metadata": {},
   "outputs": [
    {
     "name": "stdout",
     "output_type": "stream",
     "text": [
      "['1', '0', '0', '0', '1', '0', '1', '0', '0', '0', '0', '0', '0', '0', '0', '0', '0', '1', '0', '0', '1', '0', '1', '0', '1', '0', '0', '0', '0', '0', '0', '0', '0', '0', '0', '1', '1', '0', '1', '0', '1', '0', '0', '0', '0', '0', '0', '0', '0', '0', '0', '0', '0', '0', '1', '0', '1', '1', '1', '1', '0', '1', '0', '0', '0', '1', '1', '1', '1', '0', '0', '0']\n"
     ]
    }
   ],
   "source": [
    "print(bitstream)"
   ]
  }
 ],
 "metadata": {
  "interpreter": {
   "hash": "40c390196b2ca76ebc34d2f43d58a57abf699157b04f9ae951ea92ea7a4c8274"
  },
  "kernelspec": {
   "display_name": "Python 3.9.6 64-bit",
   "language": "python",
   "name": "python3"
  },
  "language_info": {
   "codemirror_mode": {
    "name": "ipython",
    "version": 3
   },
   "file_extension": ".py",
   "mimetype": "text/x-python",
   "name": "python",
   "nbconvert_exporter": "python",
   "pygments_lexer": "ipython3",
   "version": "3.9.6"
  },
  "orig_nbformat": 4
 },
 "nbformat": 4,
 "nbformat_minor": 2
}
