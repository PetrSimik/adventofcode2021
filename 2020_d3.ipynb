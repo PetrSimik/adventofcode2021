{
 "cells": [
  {
   "cell_type": "code",
   "execution_count": 35,
   "metadata": {},
   "outputs": [
    {
     "name": "stdout",
     "output_type": "stream",
     "text": [
      "209\n"
     ]
    }
   ],
   "source": [
    "with open(\"2020_d3.txt\") as f:\n",
    "     grid = list(map(str.strip, f.readlines()))\n",
    "chars=len(grid[0])\n",
    "x,trees = 0,0\n",
    "\n",
    "for y,line in enumerate(grid):\n",
    "    # print(y,line)\n",
    "    if grid[y][x] == '#':\n",
    "        trees += 1\n",
    "    x = (x + 3) % chars\n",
    "\n",
    "print(trees)\n"
   ]
  },
  {
   "cell_type": "code",
   "execution_count": 39,
   "metadata": {},
   "outputs": [
    {
     "name": "stdout",
     "output_type": "stream",
     "text": [
      "[58, 209, 58, 64, 35]\n"
     ]
    },
    {
     "data": {
      "text/plain": [
       "1574890240"
      ]
     },
     "execution_count": 39,
     "metadata": {},
     "output_type": "execute_result"
    }
   ],
   "source": [
    "import math\n",
    "lines=[]\n",
    "vertical=0\n",
    "horizontal=0\n",
    "with open(\"2020_d3.txt\") as f:\n",
    "     grid = list(map(str.strip, f.readlines()))\n",
    "\n",
    "chars=len(grid[0])\n",
    "\n",
    "\n",
    "def counttree(dx,dy):\n",
    "    x,trees = 0,0\n",
    "    for y in range(0,len(grid),dy):        \n",
    "        if grid[y][x] == '#':\n",
    "            trees += 1\n",
    "        x = (x + dx) % chars\n",
    "    return trees\n",
    "\n",
    "slopes = [(1, 1), (3, 1), (5, 1), (7, 1), (1, 2)]\n",
    "\n",
    "res=[counttree(dx,dy) for dx,dy in slopes]\n",
    "print(res)\n",
    "math.prod(res)\n"
   ]
  }
 ],
 "metadata": {
  "interpreter": {
   "hash": "40c390196b2ca76ebc34d2f43d58a57abf699157b04f9ae951ea92ea7a4c8274"
  },
  "kernelspec": {
   "display_name": "Python 3.9.6 64-bit",
   "language": "python",
   "name": "python3"
  },
  "language_info": {
   "name": "python",
   "version": "3.9.6"
  },
  "orig_nbformat": 4
 },
 "nbformat": 4,
 "nbformat_minor": 2
}
