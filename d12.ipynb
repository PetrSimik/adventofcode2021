{
 "cells": [
  {
   "cell_type": "code",
   "execution_count": 2,
   "metadata": {},
   "outputs": [
    {
     "name": "stdout",
     "output_type": "stream",
     "text": [
      "72\n",
      "655\n"
     ]
    }
   ],
   "source": [
    "from collections import defaultdict, deque\n",
    "\n",
    "with open('d12_short.txt', 'r') as f:\n",
    "    graph = defaultdict(list)\n",
    "    for line in f.read().splitlines():\n",
    "        a, b = line.split('-')\n",
    "        graph[a].append(b)\n",
    "        if a != 'start':\n",
    "            graph[b].append(a)\n",
    "\n",
    "def AOC_day12_pt1_and_pt2(graph, double_visit_allowed):            \n",
    "    valid_paths = 0\n",
    "    paths = deque([(['start'], set(), False)])\n",
    "\n",
    "    while paths:\n",
    "        path, small_caves, double_visited = paths.popleft()\n",
    "        for cave in graph[path[-1]]:\n",
    "            if cave == 'end':\n",
    "                valid_paths += 1  \n",
    "            elif cave.islower():\n",
    "                if cave not in small_caves:\n",
    "                    paths.append((path + [cave], small_caves|{cave}, double_visited))\n",
    "                elif double_visit_allowed and not double_visited:\n",
    "                    paths.append((path + [cave], small_caves, True))\n",
    "            else:\n",
    "                paths.append((path + [cave], small_caves, double_visited))\n",
    "    return valid_paths\n",
    "\n",
    "print(AOC_day12_pt1_and_pt2(graph, double_visit_allowed=False))\n",
    "print(AOC_day12_pt1_and_pt2(graph, double_visit_allowed=True))"
   ]
  },
  {
   "cell_type": "code",
   "execution_count": 13,
   "metadata": {},
   "outputs": [
    {
     "name": "stdout",
     "output_type": "stream",
     "text": [
      "dc defaultdict(<class 'list'>, {'dc': ['end', 'start', 'HN', 'LN', 'kj'], 'end': ['dc', 'HN'], 'HN': ['start', 'dc', 'end', 'kj'], 'start': ['HN', 'kj', 'dc'], 'LN': ['dc'], 'kj': ['sa', 'HN', 'dc'], 'sa': ['kj']})\n"
     ]
    }
   ],
   "source": [
    "from collections import defaultdict, deque\n",
    "\n",
    "with open('d12_short.txt', 'r') as f:\n",
    "    graph = defaultdict(list)\n",
    "    for line in f.read().splitlines():\n",
    "        a, b = line.split('-')\n",
    "        graph[a].append(b)\n",
    "        if a != 'start':\n",
    "            graph[b].append(a)\n",
    "for cave in graph[path[-1]]:\n",
    "        if cave == 'end':\n",
    "            valid_paths += 1  \n",
    "print(cave,graph)"
   ]
  },
  {
   "cell_type": "code",
   "execution_count": 12,
   "metadata": {},
   "outputs": [
    {
     "data": {
      "text/plain": [
       "deque([])"
      ]
     },
     "execution_count": 12,
     "metadata": {},
     "output_type": "execute_result"
    }
   ],
   "source": [
    "paths = deque([(['start'], set(), False)])\n",
    "while paths:\n",
    "        path, small_caves, double_visited = paths.popleft()\n",
    "paths   "
   ]
  },
  {
   "cell_type": "code",
   "execution_count": null,
   "metadata": {},
   "outputs": [],
   "source": []
  }
 ],
 "metadata": {
  "interpreter": {
   "hash": "2ca308698ddfcb2951ab57f89e649865fc65902f7fd8e58c273e4a163ea7f389"
  },
  "kernelspec": {
   "display_name": "Python 3.9.6 64-bit",
   "language": "python",
   "name": "python3"
  },
  "language_info": {
   "codemirror_mode": {
    "name": "ipython",
    "version": 3
   },
   "file_extension": ".py",
   "mimetype": "text/x-python",
   "name": "python",
   "nbconvert_exporter": "python",
   "pygments_lexer": "ipython3",
   "version": "3.9.6"
  },
  "orig_nbformat": 4
 },
 "nbformat": 4,
 "nbformat_minor": 2
}
