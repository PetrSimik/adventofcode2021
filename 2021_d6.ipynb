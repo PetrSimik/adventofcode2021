{
 "cells": [
  {
   "cell_type": "code",
   "execution_count": 97,
   "metadata": {},
   "outputs": [
    {
     "name": "stdout",
     "output_type": "stream",
     "text": [
      "1\n",
      "5\n"
     ]
    }
   ],
   "source": [
    "initial_state=[3]\n",
    "\n",
    "# for day in range(18):\n",
    "\n",
    "class Fish:\n",
    "    def __init__(self,age):\n",
    "        self.age=age\n",
    "        \n",
    "    def nextday(self):\n",
    "        if self.age == 0:\n",
    "            self.age = 6\n",
    "        else:\n",
    "            self.age -= 1\n",
    "        return self.age\n",
    "   \n",
    "\n",
    "\n",
    "fishes = [Fish(age) for age in initial_state]\n",
    "\n",
    "fishcount=len(fishes)\n",
    "print(fishcount)\n",
    "\n",
    "for day in range(18):\n",
    "    for fish in fishes:                \n",
    "        if fish.age == 0:            \n",
    "            fishes.append(Fish(8))\n",
    "            fishcount+=1\n",
    "        fish.nextday()\n",
    "print(fishcount)\n",
    "\n",
    "# len(fishes)\n",
    "\n",
    "# for fish in fishes:\n",
    "#     print(fish.age)\n",
    "\n",
    "\n"
   ]
  },
  {
   "cell_type": "code",
   "execution_count": 107,
   "metadata": {},
   "outputs": [
    {
     "name": "stdout",
     "output_type": "stream",
     "text": [
      "[3, 4, 3, 1, 2]\n",
      "[-14, -13, -14, -16, -15, -8, -7, -6, -6, -5, 0, 1, 2, 2, 3]\n",
      "15\n"
     ]
    }
   ],
   "source": [
    "initial_state=[3,4,3,1,2]\n",
    "# initial_state=[3]\n",
    "\n",
    "fishes = [x for x in initial_state]\n",
    "fishcount=len(fishes)\n",
    "\n",
    "print(fishes)\n",
    "for day in range(1,18):\n",
    "    for index,fish in enumerate(fishes):                \n",
    "        if fish == 0:            \n",
    "            fishes.append(8)\n",
    "            fishcount+=1            \n",
    "        # print(fish)\n",
    "        fishes[index] -= 1\n",
    "\n",
    "print(fishes)\n",
    "print(fishcount)"
   ]
  },
  {
   "cell_type": "code",
   "execution_count": 108,
   "metadata": {},
   "outputs": [
    {
     "name": "stdout",
     "output_type": "stream",
     "text": [
      "{0: 0, 1: 0, 2: 0, 3: 0, 4: 0, 5: 0, 6: 0, 7: 0, 8: 0}\n"
     ]
    }
   ],
   "source": [
    "data ={}\n",
    "\n",
    "fishes = [3,4,3,1,2]\n",
    "for value in range(max(9,max(fishes))):\n",
    "        data[value] = 0\n",
    "print(data)\n",
    "for element in fishes:\n",
    "    data[element] +=1\n"
   ]
  },
  {
   "cell_type": "code",
   "execution_count": 114,
   "metadata": {},
   "outputs": [
    {
     "data": {
      "text/plain": [
       "9"
      ]
     },
     "execution_count": 114,
     "metadata": {},
     "output_type": "execute_result"
    }
   ],
   "source": [
    "fishes = [3,4,3,1,2]\n",
    "max(9,max(fishes))"
   ]
  }
 ],
 "metadata": {
  "interpreter": {
   "hash": "40c390196b2ca76ebc34d2f43d58a57abf699157b04f9ae951ea92ea7a4c8274"
  },
  "kernelspec": {
   "display_name": "Python 3.9.6 64-bit",
   "language": "python",
   "name": "python3"
  },
  "language_info": {
   "name": "python",
   "version": "3.9.6"
  },
  "orig_nbformat": 4
 },
 "nbformat": 4,
 "nbformat_minor": 2
}
