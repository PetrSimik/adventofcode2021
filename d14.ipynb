{
 "cells": [
  {
   "cell_type": "code",
   "execution_count": 4,
   "metadata": {},
   "outputs": [
    {
     "name": "stdout",
     "output_type": "stream",
     "text": [
      "C NN ['N', 'N']\n",
      "B NC ['N', 'C']\n",
      "H CB ['C', 'B']\n",
      "NCNNBCCHB\n"
     ]
    }
   ],
   "source": [
    "from collections import defaultdict\n",
    "pairs = defaultdict(dict)\n",
    "template = []\n",
    "with open('d14_short.txt', 'r') as f:    \n",
    "    for line in f.read().splitlines():\n",
    "        if len(line) == 4:\n",
    "            template = [char for char in line]\n",
    "        elif len(line)>4:        \n",
    "            a, b = line.split(' -> ')\n",
    "            pairs[a] = b\n",
    "\n",
    "\n",
    "def getpairs(sentence):\n",
    "    pairs=[]\n",
    "    sentence_length=len(sentence)\n",
    "    index=1   \n",
    "    for index in range(1,sentence_length):\n",
    "        pair = sentence[index-1] + sentence[index]\n",
    "        pairs.append(pair)\n",
    "    return pairs\n",
    "\n",
    "\n",
    "newtemplate=[]\n",
    "thisround =  getpairs(template)\n",
    "roundlength = len(thisround)\n",
    "index=0\n",
    "while index < roundlength:    \n",
    "    if pairs.get(thisround[index]):\n",
    "        letter = pairs.get(thisround[index])\n",
    "        dvojice = [x for x in thisround[index]]\n",
    "        newtemplate.append(dvojice[0])\n",
    "        newtemplate.append(letter)\n",
    "        newtemplate.append(dvojice[1])\n",
    "        print(letter,thisround[index],dvojice )   \n",
    "    index+=1\n",
    "\n",
    "\n",
    "\n",
    "print(\"\".join(newtemplate))\n",
    "    "
   ]
  },
  {
   "cell_type": "code",
   "execution_count": 79,
   "metadata": {},
   "outputs": [
    {
     "name": "stdout",
     "output_type": "stream",
     "text": [
      "0\n",
      "1\n",
      "2\n",
      "3\n"
     ]
    }
   ],
   "source": [
    "line=[1,2,3,4]\n",
    "for i,v in enumerate(line):\n",
    "    print(i)"
   ]
  },
  {
   "cell_type": "code",
   "execution_count": 6,
   "metadata": {},
   "outputs": [
    {
     "name": "stdout",
     "output_type": "stream",
     "text": [
      "defaultdict(<class 'dict'>, {'CH': 'B', 'HH': 'N', 'CB': 'H', 'NH': 'C', 'HB': 'C', 'HC': 'B', 'HN': 'C', 'NN': 'C', 'BH': 'H', 'NC': 'B', 'NB': 'B', 'BN': 'B', 'BB': 'N', 'BC': 'B', 'CC': 'N', 'CN': 'C'})\n",
      "['N', 'N', 'C', 'B']\n"
     ]
    }
   ],
   "source": [
    "from collections import defaultdict\n",
    "pairs = defaultdict(dict)\n",
    "template = []\n",
    "with open('d14_short.txt', 'r') as f:    \n",
    "    for line in f.read().splitlines():\n",
    "        if len(line) == 4:\n",
    "            template = [char for char in line]\n",
    "        elif len(line)>4:        \n",
    "            a, b = line.split(' -> ')\n",
    "            pairs[a] = b\n",
    "\n",
    "print(pairs)\n",
    "print(template)"
   ]
  },
  {
   "cell_type": "code",
   "execution_count": 38,
   "metadata": {},
   "outputs": [
    {
     "name": "stdout",
     "output_type": "stream",
     "text": [
      "{'CH': 'B', 'HH': 'N', 'CB': 'H', 'NH': 'C', 'HB': 'C', 'HC': 'B', 'HN': 'C', 'NN': 'C', 'BH': 'H', 'NC': 'B', 'NB': 'B', 'BN': 'B', 'BB': 'N', 'BC': 'B', 'CC': 'N', 'CN': 'C'}\n"
     ]
    }
   ],
   "source": [
    "with open('d14_short.txt', 'r') as f:\n",
    "    lines = f.readlines()\n",
    "    template = lines[0].strip()\n",
    "    subs = dict(line.strip().split(' -> ') for line in lines[2:])\n",
    "    \n",
    "    \n",
    "\n"
   ]
  },
  {
   "cell_type": "code",
   "execution_count": 39,
   "metadata": {},
   "outputs": [
    {
     "name": "stdout",
     "output_type": "stream",
     "text": [
      "3555\n",
      "4439442043739\n"
     ]
    }
   ],
   "source": [
    "from collections import Counter\n",
    "\n",
    "def polymerize(template, subs, steps):\n",
    "    letter_counts = Counter(template)\n",
    "    pair_counts = Counter(template[i:i+2] for i in range(len(template) - 1))\n",
    "    for i in range(steps):\n",
    "        ndict = Counter()\n",
    "        for k, v in pair_counts.items():\n",
    "            if k in subs:\n",
    "                ndict.update({k[0] + subs[k]: v,  subs[k] + k[1]: v})\n",
    "                letter_counts.update({subs[k]: v})\n",
    "        pair_counts = ndict\n",
    "    print(letter_counts.most_common()[0]\n",
    "        [1] - letter_counts.most_common()[-1][1])\n",
    "\n",
    "with open('d14.txt', 'r') as f:\n",
    "    lines = f.readlines()\n",
    "    template = lines[0].strip()\n",
    "    subs = dict(line.strip().split(' -> ') for line in lines[2:])\n",
    "\n",
    "polymerize(template, subs, 10)\n",
    "polymerize(template, subs, 40)"
   ]
  }
 ],
 "metadata": {
  "interpreter": {
   "hash": "2ca308698ddfcb2951ab57f89e649865fc65902f7fd8e58c273e4a163ea7f389"
  },
  "kernelspec": {
   "display_name": "Python 3.9.6 64-bit",
   "language": "python",
   "name": "python3"
  },
  "language_info": {
   "codemirror_mode": {
    "name": "ipython",
    "version": 3
   },
   "file_extension": ".py",
   "mimetype": "text/x-python",
   "name": "python",
   "nbconvert_exporter": "python",
   "pygments_lexer": "ipython3",
   "version": "3.9.6"
  },
  "orig_nbformat": 4
 },
 "nbformat": 4,
 "nbformat_minor": 2
}
