{
 "cells": [
  {
   "cell_type": "code",
   "execution_count": null,
   "metadata": {},
   "outputs": [],
   "source": [
    "from collections import deque\n",
    "matrix=[]\n",
    "with open(\"day10_short.txt\", \"r\") as f:\n",
    "    lines = f.readline()\n",
    "    while lines:\n",
    "        line=(lines.strip(\"\\n\"))\n",
    "        matrixline=[x for x in line]\n",
    "        matrix.append(matrixline)        \n",
    "        lines = f.readline()\n",
    "\n",
    "# ): 3 points.\n",
    "# ]: 57 points.\n",
    "# }: 1197 points.\n",
    "# >: 25137 points.\n",
    "closing_brackets=[\"}\",\")\",\"]\",\">\"]\n",
    "opening_brackets=[\"{\",\"(\",\"[\",\"<\"]\n",
    "\n",
    "bracketpair={\n",
    "    \"{\":\"}\",\n",
    "    \"[\":\"]\",\n",
    "    \"<\":\">\",\n",
    "    \"(\":\")\" }\n",
    "\n",
    "errbracket=[]\n",
    "for line in matrix:\n",
    "    stack = []\n",
    "    print(line)\n",
    "    for bracket in line:\n",
    "        if bracket in opening_brackets:\n",
    "            stack.append(bracket)\n",
    "        if bracket in closing_brackets:\n",
    "            if bracketpair.get(bracket,\"err\")!=stack.pop():\n",
    "                print(bracket)\n",
    "                errbracket.append(bracket)\n",
    "                break\n",
    "print(errbracket)"
   ]
  },
  {
   "cell_type": "code",
   "execution_count": 11,
   "metadata": {},
   "outputs": [
    {
     "data": {
      "text/plain": [
       "True"
      ]
     },
     "execution_count": 11,
     "metadata": {},
     "output_type": "execute_result"
    }
   ],
   "source": [
    "closing_brackets=[\"}\",\")\",\"]\",\">\"]\n",
    "opening_brackets=[\"{\",\"(\",\"[\",\"<\"]\n",
    "\n",
    "\"{\" in opening_brackets"
   ]
  },
  {
   "cell_type": "code",
   "execution_count": 1,
   "metadata": {},
   "outputs": [
    {
     "name": "stdout",
     "output_type": "stream",
     "text": [
      "[1, 3, 5, 7, 9]\n"
     ]
    }
   ],
   "source": [
    "stack=[1,2,3,4,5,6,7,8,9]\n",
    "for i in stack:\n",
    "    if i % 2 == 0:\n",
    "        stack.remove(i)\n",
    "print(stack)"
   ]
  }
 ],
 "metadata": {
  "interpreter": {
   "hash": "40c390196b2ca76ebc34d2f43d58a57abf699157b04f9ae951ea92ea7a4c8274"
  },
  "kernelspec": {
   "display_name": "Python 3.9.6 64-bit",
   "language": "python",
   "name": "python3"
  },
  "language_info": {
   "codemirror_mode": {
    "name": "ipython",
    "version": 3
   },
   "file_extension": ".py",
   "mimetype": "text/x-python",
   "name": "python",
   "nbconvert_exporter": "python",
   "pygments_lexer": "ipython3",
   "version": "3.9.6"
  },
  "orig_nbformat": 4
 },
 "nbformat": 4,
 "nbformat_minor": 2
}
