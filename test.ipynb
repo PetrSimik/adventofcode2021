{
 "cells": [
  {
   "cell_type": "code",
   "execution_count": 6,
   "metadata": {},
   "outputs": [
    {
     "name": "stdout",
     "output_type": "stream",
     "text": [
      "[]\n",
      "<class 'numpy.ndarray'>\n"
     ]
    }
   ],
   "source": [
    "import numpy as np\n",
    "# create two 2d arrays\n",
    "ar1 = np.array([[4,2],\n",
    "                [4,4]])\n",
    "ar2 = np.array([[5,1],\n",
    "                [3,3]])\n",
    "# intersection b/w the two arrays\n",
    "common_elements = np.intersect1d(ar1, ar2)\n",
    "# display the intersection array\n",
    "print(common_elements)\n",
    "# display the type\n",
    "print(type(common_elements))\n",
    "\n",
    "\n"
   ]
  },
  {
   "cell_type": "code",
   "execution_count": 11,
   "metadata": {},
   "outputs": [
    {
     "name": "stdout",
     "output_type": "stream",
     "text": [
      "[[958, 109], [958, 639]]\n"
     ]
    }
   ],
   "source": [
    "lines=[]\n",
    "with open(\"input5.txt\") as f:        \n",
    "    # line=f.readline()\n",
    "    while f.readline():\n",
    "        line=f.readline().strip('\\n').split(' -> ')\n",
    "        left = [int(x) for x in line[0].split(',')]\n",
    "        right = [int(x) for x in line[1].split(',')]\n",
    "        lines.append([left,right])\n",
    "\n",
    "print(lines[0])\n",
    "        "
   ]
  },
  {
   "cell_type": "code",
   "execution_count": 13,
   "metadata": {},
   "outputs": [
    {
     "name": "stdout",
     "output_type": "stream",
     "text": [
      "solution p1 959\n"
     ]
    }
   ],
   "source": [
    "grid = [[0]* 1000 for i in range(1000)]\n",
    "for line in lines:\n",
    "    # print(line)\n",
    "    if line[0][0]==line[1][0]:\n",
    "        a=min(line[0][1], line[1][1])\n",
    "        b=max(line[0][1], line[1][1])   \n",
    "        for index in range(a,b+1):\n",
    "            grid[line[0][0]][index] += 1\n",
    "    elif line[0][1]==line[1][1]:\n",
    "        a=min(line[0][0], line[1][0])\n",
    "        b=max(line[0][0], line[1][0])\n",
    "        # print(a,b)\n",
    "        for index in range(a,b+1):\n",
    "            grid[line[0][1]][index] += 1\n",
    "count=0\n",
    "for row in grid:\n",
    "    for element in row:\n",
    "        if element > 1:\n",
    "            count +=1\n",
    "print(f\"solution p1 {count}\")\n"
   ]
  },
  {
   "cell_type": "code",
   "execution_count": null,
   "metadata": {},
   "outputs": [],
   "source": []
  }
 ],
 "metadata": {
  "interpreter": {
   "hash": "40c390196b2ca76ebc34d2f43d58a57abf699157b04f9ae951ea92ea7a4c8274"
  },
  "kernelspec": {
   "display_name": "Python 3.9.6 64-bit",
   "language": "python",
   "name": "python3"
  },
  "language_info": {
   "codemirror_mode": {
    "name": "ipython",
    "version": 3
   },
   "file_extension": ".py",
   "mimetype": "text/x-python",
   "name": "python",
   "nbconvert_exporter": "python",
   "pygments_lexer": "ipython3",
   "version": "3.9.6"
  },
  "orig_nbformat": 4
 },
 "nbformat": 4,
 "nbformat_minor": 2
}
