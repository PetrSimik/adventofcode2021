{
 "cells": [
  {
   "cell_type": "code",
   "execution_count": 11,
   "metadata": {},
   "outputs": [
    {
     "name": "stdout",
     "output_type": "stream",
     "text": [
      "['y', '7']\n",
      "['x', '5']\n"
     ]
    }
   ],
   "source": [
    "dotsarray=[]\n",
    "folds=[]\n",
    "with open(\"d13_short.txt\", \"r\") as f:\n",
    "    lines = f.readline()\n",
    "    while lines:\n",
    "        line=(lines.strip(\"\\n\"))        \n",
    "        if line.startswith(\"fold\"):\n",
    "            print([x for x in line.strip(\"fold along\").split(\"=\")])\n",
    "            # print(line.strip(\"fold along\").split(\"=\"))\n",
    "            \n",
    "\n",
    "        else:\n",
    "            matrixline=[x for x in line]\n",
    "            dotsarray.append(matrixline)        \n",
    "        lines = f.readline()\n"
   ]
  },
  {
   "cell_type": "code",
   "execution_count": 15,
   "metadata": {},
   "outputs": [
    {
     "name": "stdout",
     "output_type": "stream",
     "text": [
      "#....###..####...##.###....##.####.#..#\n",
      "#....#..#.#.......#.#..#....#.#....#..#\n",
      "#....#..#.###.....#.###.....#.###..####\n",
      "#....###..#.......#.#..#....#.#....#..#\n",
      "#....#.#..#....#..#.#..#.#..#.#....#..#\n",
      "####.#..#.#.....##..###...##..####.#..#\n",
      "95\n"
     ]
    }
   ],
   "source": [
    "import re\n",
    "myfile = \"d13.txt\"\n",
    "dots = [(int(a), int(b)) for (a, b) in re.findall(r'(\\d+),(\\d+)', open(myfile).read())]\n",
    "folds = [(a, int(b)) for (a, b) in re.findall(r'([xy])=(\\d+)', open(myfile).read())]\n",
    "\n",
    "for fold in folds:\n",
    "    max_pt = fold[1] * 2\n",
    "    axis_index = 0 if fold[0] == 'x' else 1\n",
    "    for dot_i, dot in enumerate(dots):\n",
    "        if dot[axis_index] > fold[1]:\n",
    "            if axis_index:\n",
    "                dots[dot_i] = (dot[0], max_pt - dots[dot_i][axis_index])\n",
    "            else:\n",
    "                dots[dot_i] = (max_pt - dots[dot_i][axis_index], dot[1])\n",
    "    dots = list(set(dots))\n",
    "\n",
    "max_x = max_y = 0\n",
    "for dot in dots:\n",
    "    if dot[0] > max_x:\n",
    "        max_x = dot[0]\n",
    "    if dot[1] > max_y:\n",
    "        max_y = dot[1]\n",
    "for x in range(max_y + 1):\n",
    "    for y in range(max_x + 1):\n",
    "        if (y, x) in dots:\n",
    "            print('#', end=\"\")\n",
    "        else:\n",
    "            print('.', end=\"\")\n",
    "    print()\n",
    "\n",
    "print(len(dots))"
   ]
  },
  {
   "cell_type": "code",
   "execution_count": 29,
   "metadata": {},
   "outputs": [
    {
     "ename": "ValueError",
     "evalue": "too many values to unpack (expected 2)",
     "output_type": "error",
     "traceback": [
      "\u001b[1;31m---------------------------------------------------------------------------\u001b[0m",
      "\u001b[1;31mValueError\u001b[0m                                Traceback (most recent call last)",
      "\u001b[1;32m~\\AppData\\Local\\Temp/ipykernel_15376/1963554225.py\u001b[0m in \u001b[0;36m<module>\u001b[1;34m\u001b[0m\n\u001b[0;32m      4\u001b[0m \u001b[1;33m\u001b[0m\u001b[0m\n\u001b[0;32m      5\u001b[0m \u001b[0md\u001b[0m\u001b[1;33m=\u001b[0m\u001b[0mset\u001b[0m\u001b[1;33m(\u001b[0m\u001b[1;33m)\u001b[0m\u001b[1;33m\u001b[0m\u001b[1;33m\u001b[0m\u001b[0m\n\u001b[1;32m----> 6\u001b[1;33m \u001b[1;32mfor\u001b[0m \u001b[0mindex\u001b[0m\u001b[1;33m,\u001b[0m\u001b[0mp\u001b[0m \u001b[1;32min\u001b[0m \u001b[0mlines\u001b[0m\u001b[1;33m:\u001b[0m\u001b[1;33m\u001b[0m\u001b[1;33m\u001b[0m\u001b[0m\n\u001b[0m\u001b[0;32m      7\u001b[0m     \u001b[1;32mif\u001b[0m \u001b[1;32mnot\u001b[0m \u001b[0mp\u001b[0m\u001b[1;33m:\u001b[0m\u001b[1;33m\u001b[0m\u001b[1;33m\u001b[0m\u001b[0m\n\u001b[0;32m      8\u001b[0m         \u001b[1;32mbreak\u001b[0m\u001b[1;33m\u001b[0m\u001b[1;33m\u001b[0m\u001b[0m\n",
      "\u001b[1;31mValueError\u001b[0m: too many values to unpack (expected 2)"
     ]
    }
   ],
   "source": [
    "with open(\"d13_short.txt\") as f:\n",
    "    lines = [l.strip() for l in f.readlines()]\n",
    "\n",
    "\n",
    "d=set()\n",
    "for index,p in lines:\n",
    "    if not p:\n",
    "        break\n",
    "    x,y = map(int,p.split(\",\"))\n",
    "    d.add((x,y))\n",
    "\n",
    "# [(index,p) for index,p in enumerate(lines) if not p.startswith(\"fold\")]\n",
    "\n",
    "print(d)"
   ]
  },
  {
   "cell_type": "code",
   "execution_count": null,
   "metadata": {},
   "outputs": [],
   "source": []
  }
 ],
 "metadata": {
  "interpreter": {
   "hash": "2ca308698ddfcb2951ab57f89e649865fc65902f7fd8e58c273e4a163ea7f389"
  },
  "kernelspec": {
   "display_name": "Python 3.9.6 64-bit",
   "language": "python",
   "name": "python3"
  },
  "language_info": {
   "codemirror_mode": {
    "name": "ipython",
    "version": 3
   },
   "file_extension": ".py",
   "mimetype": "text/x-python",
   "name": "python",
   "nbconvert_exporter": "python",
   "pygments_lexer": "ipython3",
   "version": "3.9.6"
  },
  "orig_nbformat": 4
 },
 "nbformat": 4,
 "nbformat_minor": 2
}
